{
 "cells": [
  {
   "cell_type": "markdown",
   "metadata": {},
   "source": [
    "## Nerve trace geometry -- project with Ryckie Wade\n",
    "\n",
    "#### 1) Plot x, y coordinates\n",
    "\n",
    "\n",
    "Load the file with coordinates"
   ]
  },
  {
   "cell_type": "code",
   "execution_count": 2,
   "metadata": {
    "collapsed": true
   },
   "outputs": [],
   "source": [
    "import csv\n",
    "import math\n",
    "import numpy as np\n",
    "import matplotlib.pyplot as plt"
   ]
  },
  {
   "cell_type": "code",
   "execution_count": 8,
   "metadata": {},
   "outputs": [],
   "source": [
    "cadaver_id = 1\n",
    "input_path = \"input_data/\" + str(cadaver_id) + \"/\"\n",
    "\n",
    "x_file = input_path + \"cadaver_x_\" + str(cadaver_id) + \".csv\"\n",
    "y_file = input_path + \"cadaver_y_\" + str(cadaver_id) + \".csv\"\n",
    "\n",
    "files = [x_file, y_file]\n",
    "raw_coords = []\n",
    "\n",
    "for file in files:\n",
    "    with open(file, newline='') as csvfile:\n",
    "        r = csv.reader(csvfile, delimiter=' ', quotechar='|')\n",
    "        for row in r: # There will only ever be one row expected\n",
    "            # 10 nerve traces, each with clicks_per_trace clicks\n",
    "            raw_coords.append(row)"
   ]
  },
  {
   "cell_type": "markdown",
   "metadata": {},
   "source": [
    "Parse coordinates."
   ]
  },
  {
   "cell_type": "code",
   "execution_count": 4,
   "metadata": {
    "collapsed": true
   },
   "outputs": [],
   "source": [
    "# Store in two formats for better computation\n",
    "x_coords, y_coords = [], []\n",
    "coords = []\n",
    "\n",
    "for x, y in zip(raw_coords[0][0].split(\",\"), raw_coords[1][0].split(\",\")):\n",
    "        coords.append([float(x), float(y)])\n",
    "        x_coords.append(float(x))\n",
    "        y_coords.append(float(y))\n",
    "        \n",
    "clicks_per_trace = len(y_coords) / 10"
   ]
  },
  {
   "cell_type": "markdown",
   "metadata": {},
   "source": [
    "Plot to double check."
   ]
  },
  {
   "cell_type": "code",
   "execution_count": 5,
   "metadata": {},
   "outputs": [
    {
     "data": {
      "image/png": "[encoded data removed]",
      "text/plain": [
       "<matplotlib.figure.Figure at 0x10f92c400>"
      ]
     },
     "metadata": {},
     "output_type": "display_data"
    }
   ],
   "source": [
    "plt.scatter(x_coords, y_coords)\n",
    "plt.gca().invert_yaxis()\n",
    "plt.show()"
   ]
  },
  {
   "cell_type": "markdown",
   "metadata": {},
   "source": [
    "#### 2) Compute acute relative angles\n",
    "\n",
    "First, compute all angles relative to horizontal for every point except first one for each of 10 nerves"
   ]
  },
  {
   "cell_type": "code",
   "execution_count": 6,
   "metadata": {
    "collapsed": true,
    "scrolled": false
   },
   "outputs": [],
   "source": [
    "horiz_nerve_angles = []\n",
    "\n",
    "# Compute nerve by nerve\n",
    "for i in range(len(x_coords)):\n",
    "    # Each clicks_per_trace series at at time - horiz_nerve_angles[i] is for point[i-1]\n",
    "    if i % clicks_per_trace != 0:\n",
    "        # Non-first point\n",
    "        dy = abs(y_coords[i] - y_coords[i-1])\n",
    "        dx = abs(x_coords[i] - x_coords[i-1])\n",
    "        \n",
    "        theta = math.degrees(math.atan(float(dy) / float(dx)))\n",
    "        horiz_nerve_angles.append(theta)\n",
    "        # print(i, \"- dy\", round(dy, 1), \"- dx\", round(dx,1), \"- theta\", round(theta, 2))\n",
    "    else:\n",
    "        horiz_nerve_angles.append(0)"
   ]
  },
  {
   "cell_type": "markdown",
   "metadata": {},
   "source": [
    "Now compute relative acute angles depending on whether point groups of three are in category:\n",
    "\n",
    "1. INCLINE or DECLINE -- theta = theta[i-1] - theta[i]\n",
    "2. VALLEY or PEAK -- theta = theta[i] + theta[i-1]"
   ]
  },
  {
   "cell_type": "code",
   "execution_count": 7,
   "metadata": {
    "collapsed": true,
    "scrolled": false
   },
   "outputs": [],
   "source": [
    "rel_acute_angles = []\n",
    "\n",
    "for i in range(len(x_coords)):\n",
    "    # Ignore first TWO points now - rel_acute_angles[i] is for point[i-1]\n",
    "    if i % clicks_per_trace not in [0, 1]:\n",
    "        theta = 0\n",
    "        \n",
    "        # The point group of three is a steady increase OR decrease along y axis\n",
    "        is_increase = (y_coords[i] >= y_coords[i-1]) and (y_coords[i-1] >= y_coords[i-2])\n",
    "        is_decrease = (y_coords[i] <= y_coords[i-1]) and (y_coords[i-1] <= y_coords[i-2])\n",
    "        \n",
    "        # Middle point is a valley or peak\n",
    "        is_valley = (y_coords[i-2] >= y_coords[i-1]) and (y_coords[i] >= y_coords[i-1])\n",
    "        is_peak = (y_coords[i-1] >= y_coords[i-2]) and (y_coords[i-1] >= y_coords[i])\n",
    "        \n",
    "        if is_increase or is_decrease:\n",
    "            theta = abs(horiz_nerve_angles[i-1] - horiz_nerve_angles[i]) \n",
    "        elif is_peak or is_valley:\n",
    "            theta = horiz_nerve_angles[i-1] + horiz_nerve_angles[i]\n",
    "\n",
    "        rel_acute_angles.append(theta)\n",
    "    else:\n",
    "        rel_acute_angles.append(0)"
   ]
  },
  {
   "cell_type": "markdown",
   "metadata": {},
   "source": [
    "Write relative acute angles to csv file."
   ]
  },
  {
   "cell_type": "code",
   "execution_count": 9,
   "metadata": {
    "collapsed": true
   },
   "outputs": [],
   "source": [
    "with open(input_path + \"acute_angles_\" + str(cadaver_id) + \".csv\", 'w', newline='') as csvfile:\n",
    "    writer = csv.writer(csvfile, delimiter=' ',\n",
    "                            quotechar='|', quoting=csv.QUOTE_MINIMAL)\n",
    "    for i in range(10): \n",
    "        # 10 nerves, 20 (or clicks_per_trace) angles per nerve\n",
    "        writer.writerow(rel_acute_angles[int(i*clicks_per_trace):int((i+1)*clicks_per_trace)])"
   ]
  },
  {
   "cell_type": "markdown",
   "metadata": {},
   "source": [
    "\n",
    "#### 3) Compute max min angles\n"
   ]
  },
  {
   "cell_type": "code",
   "execution_count": 10,
   "metadata": {
    "collapsed": true
   },
   "outputs": [],
   "source": [
    "maxes, mins = [], []\n",
    "\n",
    "for i in range(10):\n",
    "    maxes.append(np.max(rel_acute_angles[int(i*clicks_per_trace):int((i+1)*clicks_per_trace)]))\n",
    "    mins.append(np.min(rel_acute_angles[int(i*clicks_per_trace + 2):int((i+1)*clicks_per_trace)]))"
   ]
  },
  {
   "cell_type": "markdown",
   "metadata": {},
   "source": [
    "Write the max and min angles for each nerve to a csv file -- first row maxes, second row mins."
   ]
  },
  {
   "cell_type": "code",
   "execution_count": 11,
   "metadata": {
    "collapsed": true
   },
   "outputs": [],
   "source": [
    "with open(\"max_mins_\" + str(cadaver_id) + \".csv\", 'w', newline='') as csvfile:\n",
    "    writer = csv.writer(csvfile, delimiter=' ',\n",
    "                            quotechar='|', quoting=csv.QUOTE_MINIMAL)\n",
    "    writer.writerow(maxes)\n",
    "    writer.writerow(mins)"
   ]
  },
  {
   "cell_type": "code",
   "execution_count": null,
   "metadata": {
    "collapsed": true
   },
   "outputs": [],
   "source": []
  }
 ],
 "metadata": {
  "kernelspec": {
   "display_name": "Python 3",
   "language": "python",
   "name": "python3"
  },
  "language_info": {
   "codemirror_mode": {
    "name": "ipython",
    "version": 3
   },
   "file_extension": ".py",
   "mimetype": "text/x-python",
   "name": "python",
   "nbconvert_exporter": "python",
   "pygments_lexer": "ipython3",
   "version": "3.6.1"
  }
 },
 "nbformat": 4,
 "nbformat_minor": 2
}
